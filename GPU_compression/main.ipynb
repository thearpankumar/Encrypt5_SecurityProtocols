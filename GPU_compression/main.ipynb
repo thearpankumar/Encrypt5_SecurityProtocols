{
 "cells": [
  {
   "cell_type": "code",
   "execution_count": 21,
   "metadata": {},
   "outputs": [
    {
     "name": "stdout",
     "output_type": "stream",
     "text": [
      "Requirement already satisfied: nvidia-nvcomp-cu12 in /home/arpan/codes/nvcc/.venv/lib/python3.12/site-packages (4.0.1.0)\n",
      "Note: you may need to restart the kernel to use updated packages.\n"
     ]
    }
   ],
   "source": [
    "%pip install nvidia-nvcomp-cu12"
   ]
  },
  {
   "cell_type": "code",
   "execution_count": 5,
   "metadata": {},
   "outputs": [
    {
     "ename": "FileNotFoundError",
     "evalue": "[Errno 2] No such file or directory: '/home/arpan/codes/Encrypt5/Encrypt5_SecurityProtocols/GPU_compression/lage_file.txt'",
     "output_type": "error",
     "traceback": [
      "\u001b[0;31m---------------------------------------------------------------------------\u001b[0m",
      "\u001b[0;31mFileNotFoundError\u001b[0m                         Traceback (most recent call last)",
      "Cell \u001b[0;32mIn[5], line 28\u001b[0m\n\u001b[1;32m     26\u001b[0m input_file \u001b[38;5;241m=\u001b[39m \u001b[38;5;124m\"\u001b[39m\u001b[38;5;124m/home/arpan/codes/Encrypt5/Encrypt5_SecurityProtocols/GPU_compression/lage_file.txt\u001b[39m\u001b[38;5;124m\"\u001b[39m\n\u001b[1;32m     27\u001b[0m output_file \u001b[38;5;241m=\u001b[39m \u001b[38;5;124m\"\u001b[39m\u001b[38;5;124m/home/arpan/codes/Encrypt5/Encrypt5_SecurityProtocols/GPU_compression/large_file.LZ4\u001b[39m\u001b[38;5;124m\"\u001b[39m\n\u001b[0;32m---> 28\u001b[0m \u001b[43mencode_file\u001b[49m\u001b[43m(\u001b[49m\u001b[43minput_file\u001b[49m\u001b[43m,\u001b[49m\u001b[43m \u001b[49m\u001b[43moutput_file\u001b[49m\u001b[43m,\u001b[49m\u001b[43m \u001b[49m\u001b[38;5;124;43m\"\u001b[39;49m\u001b[38;5;124;43mLZ4\u001b[39;49m\u001b[38;5;124;43m\"\u001b[39;49m\u001b[43m)\u001b[49m\n",
      "Cell \u001b[0;32mIn[5], line 6\u001b[0m, in \u001b[0;36mencode_file\u001b[0;34m(input_file_path, output_file_path, algorithm_type)\u001b[0m\n\u001b[1;32m      5\u001b[0m \u001b[38;5;28;01mdef\u001b[39;00m \u001b[38;5;21mencode_file\u001b[39m(input_file_path, output_file_path, algorithm_type):\n\u001b[0;32m----> 6\u001b[0m   \u001b[38;5;28;01mwith\u001b[39;00m \u001b[38;5;28;43mopen\u001b[39;49m\u001b[43m(\u001b[49m\u001b[43minput_file_path\u001b[49m\u001b[43m,\u001b[49m\u001b[43m \u001b[49m\u001b[38;5;124;43m\"\u001b[39;49m\u001b[38;5;124;43mrb\u001b[39;49m\u001b[38;5;124;43m\"\u001b[39;49m\u001b[43m)\u001b[49m \u001b[38;5;28;01mas\u001b[39;00m f:\n\u001b[1;32m      7\u001b[0m     text \u001b[38;5;241m=\u001b[39m f\u001b[38;5;241m.\u001b[39mread()\n\u001b[1;32m      9\u001b[0m   nvarr_txt_h \u001b[38;5;241m=\u001b[39m nvcomp\u001b[38;5;241m.\u001b[39mas_array(text)\n",
      "File \u001b[0;32m~/codes/nvcc/.venv/lib/python3.12/site-packages/IPython/core/interactiveshell.py:324\u001b[0m, in \u001b[0;36m_modified_open\u001b[0;34m(file, *args, **kwargs)\u001b[0m\n\u001b[1;32m    317\u001b[0m \u001b[38;5;28;01mif\u001b[39;00m file \u001b[38;5;129;01min\u001b[39;00m {\u001b[38;5;241m0\u001b[39m, \u001b[38;5;241m1\u001b[39m, \u001b[38;5;241m2\u001b[39m}:\n\u001b[1;32m    318\u001b[0m     \u001b[38;5;28;01mraise\u001b[39;00m \u001b[38;5;167;01mValueError\u001b[39;00m(\n\u001b[1;32m    319\u001b[0m         \u001b[38;5;124mf\u001b[39m\u001b[38;5;124m\"\u001b[39m\u001b[38;5;124mIPython won\u001b[39m\u001b[38;5;124m'\u001b[39m\u001b[38;5;124mt let you open fd=\u001b[39m\u001b[38;5;132;01m{\u001b[39;00mfile\u001b[38;5;132;01m}\u001b[39;00m\u001b[38;5;124m by default \u001b[39m\u001b[38;5;124m\"\u001b[39m\n\u001b[1;32m    320\u001b[0m         \u001b[38;5;124m\"\u001b[39m\u001b[38;5;124mas it is likely to crash IPython. If you know what you are doing, \u001b[39m\u001b[38;5;124m\"\u001b[39m\n\u001b[1;32m    321\u001b[0m         \u001b[38;5;124m\"\u001b[39m\u001b[38;5;124myou can use builtins\u001b[39m\u001b[38;5;124m'\u001b[39m\u001b[38;5;124m open.\u001b[39m\u001b[38;5;124m\"\u001b[39m\n\u001b[1;32m    322\u001b[0m     )\n\u001b[0;32m--> 324\u001b[0m \u001b[38;5;28;01mreturn\u001b[39;00m \u001b[43mio_open\u001b[49m\u001b[43m(\u001b[49m\u001b[43mfile\u001b[49m\u001b[43m,\u001b[49m\u001b[43m \u001b[49m\u001b[38;5;241;43m*\u001b[39;49m\u001b[43margs\u001b[49m\u001b[43m,\u001b[49m\u001b[43m \u001b[49m\u001b[38;5;241;43m*\u001b[39;49m\u001b[38;5;241;43m*\u001b[39;49m\u001b[43mkwargs\u001b[49m\u001b[43m)\u001b[49m\n",
      "\u001b[0;31mFileNotFoundError\u001b[0m: [Errno 2] No such file or directory: '/home/arpan/codes/Encrypt5/Encrypt5_SecurityProtocols/GPU_compression/lage_file.txt'"
     ]
    }
   ],
   "source": [
    "import numpy as np\n",
    "import cupy as cp\n",
    "from nvidia import nvcomp\n",
    "\n",
    "def encode_file(input_file_path, output_file_path, algorithm_type):\n",
    "  with open(input_file_path, \"rb\") as f:\n",
    "    text = f.read()\n",
    "\n",
    "  nvarr_txt_h = nvcomp.as_array(text)\n",
    "\n",
    "  # Transfer the data to the GPU memory\n",
    "  nvarr_txt_d = nvarr_txt_h.cuda()\n",
    "  # Create the Lz4 codec object with checksum verification enabled\n",
    "  lz4_codec = nvcomp.Codec(algorithm=algorithm_type, checksum_policy=nvcomp.ChecksumPolicy.COMPUTE_AND_VERIFY)\n",
    "  # Perform the Lz4 compression on the GPU\n",
    "  lz4_comp_arr = lz4_codec.encode(nvarr_txt_d)\n",
    "  # Transfer the compressed data back to the host (CPU)\n",
    "  compressed_data = lz4_comp_arr.cpu()\n",
    "  # Write the compressed data to the output file in binary mode\n",
    "  with open(output_file_path, \"wb\") as f:\n",
    "    f.write(compressed_data)\n",
    "\n",
    "  print(f\"File '{input_file_path}' encoded successfully to '{output_file_path}'.\")\n",
    "\n",
    "# Example usage\n",
    "input_file = \"/home/arpan/codes/Encrypt5/Encrypt5_SecurityProtocols/GPU_compression/lage_file.txt\"\n",
    "output_file = \"/home/arpan/codes/Encrypt5/Encrypt5_SecurityProtocols/GPU_compression/large_file.LZ4\"\n",
    "encode_file(input_file, output_file, \"LZ4\")"
   ]
  },
  {
   "cell_type": "code",
   "execution_count": 1,
   "metadata": {},
   "outputs": [
    {
     "name": "stdout",
     "output_type": "stream",
     "text": [
      "nvcomp version: 4.0.1\n",
      "nvcomp cuda version: 12050\n"
     ]
    },
    {
     "ename": "FileNotFoundError",
     "evalue": "[Errno 2] No such file or directory: 'mobydick.LZ4'",
     "output_type": "error",
     "traceback": [
      "\u001b[0;31m---------------------------------------------------------------------------\u001b[0m",
      "\u001b[0;31mFileNotFoundError\u001b[0m                         Traceback (most recent call last)",
      "Cell \u001b[0;32mIn[1], line 36\u001b[0m\n\u001b[1;32m     32\u001b[0m     nv_dec_array \u001b[38;5;241m=\u001b[39m lz4_codec\u001b[38;5;241m.\u001b[39mdecode(text)\n\u001b[1;32m     34\u001b[0m     \u001b[38;5;28mprint\u001b[39m(\u001b[38;5;28mbytes\u001b[39m(nv_dec_array\u001b[38;5;241m.\u001b[39mcpu())[:\u001b[38;5;241m400\u001b[39m]\u001b[38;5;241m.\u001b[39mdecode())\n\u001b[0;32m---> 36\u001b[0m \u001b[43mverify\u001b[49m\u001b[43m(\u001b[49m\u001b[38;5;124;43m\"\u001b[39;49m\u001b[38;5;124;43mmobydick.txt\u001b[39;49m\u001b[38;5;124;43m\"\u001b[39;49m\u001b[43m,\u001b[49m\u001b[43m \u001b[49m\u001b[38;5;124;43m\"\u001b[39;49m\u001b[38;5;124;43mmobydick.LZ4\u001b[39;49m\u001b[38;5;124;43m\"\u001b[39;49m\u001b[43m,\u001b[49m\u001b[43m \u001b[49m\u001b[38;5;124;43m\"\u001b[39;49m\u001b[38;5;124;43mLZ4\u001b[39;49m\u001b[38;5;124;43m\"\u001b[39;49m\u001b[43m)\u001b[49m\n\u001b[1;32m     37\u001b[0m decode(\u001b[38;5;124m\"\u001b[39m\u001b[38;5;124mmobydick.LZ4\u001b[39m\u001b[38;5;124m\"\u001b[39m, \u001b[38;5;124m\"\u001b[39m\u001b[38;5;124mLZ4\u001b[39m\u001b[38;5;124m\"\u001b[39m)\n",
      "Cell \u001b[0;32mIn[1], line 11\u001b[0m, in \u001b[0;36mverify\u001b[0;34m(original_file, encoded_file, algorith_type)\u001b[0m\n\u001b[1;32m      9\u001b[0m \u001b[38;5;28;01mwith\u001b[39;00m \u001b[38;5;28mopen\u001b[39m(original_file, \u001b[38;5;124m\"\u001b[39m\u001b[38;5;124mrb\u001b[39m\u001b[38;5;124m\"\u001b[39m) \u001b[38;5;28;01mas\u001b[39;00m f:\n\u001b[1;32m     10\u001b[0m     original \u001b[38;5;241m=\u001b[39m f\u001b[38;5;241m.\u001b[39mread()\n\u001b[0;32m---> 11\u001b[0m \u001b[38;5;28;01mwith\u001b[39;00m \u001b[38;5;28;43mopen\u001b[39;49m\u001b[43m(\u001b[49m\u001b[43mencoded_file\u001b[49m\u001b[43m,\u001b[49m\u001b[43m \u001b[49m\u001b[38;5;124;43m\"\u001b[39;49m\u001b[38;5;124;43mrb\u001b[39;49m\u001b[38;5;124;43m\"\u001b[39;49m\u001b[43m)\u001b[49m \u001b[38;5;28;01mas\u001b[39;00m f:\n\u001b[1;32m     12\u001b[0m     text \u001b[38;5;241m=\u001b[39m f\u001b[38;5;241m.\u001b[39mread()\n\u001b[1;32m     14\u001b[0m nvarr_txt_h \u001b[38;5;241m=\u001b[39m nvcomp\u001b[38;5;241m.\u001b[39mas_array(text)\n",
      "File \u001b[0;32m~/codes/nvcc/.venv/lib/python3.12/site-packages/IPython/core/interactiveshell.py:324\u001b[0m, in \u001b[0;36m_modified_open\u001b[0;34m(file, *args, **kwargs)\u001b[0m\n\u001b[1;32m    317\u001b[0m \u001b[38;5;28;01mif\u001b[39;00m file \u001b[38;5;129;01min\u001b[39;00m {\u001b[38;5;241m0\u001b[39m, \u001b[38;5;241m1\u001b[39m, \u001b[38;5;241m2\u001b[39m}:\n\u001b[1;32m    318\u001b[0m     \u001b[38;5;28;01mraise\u001b[39;00m \u001b[38;5;167;01mValueError\u001b[39;00m(\n\u001b[1;32m    319\u001b[0m         \u001b[38;5;124mf\u001b[39m\u001b[38;5;124m\"\u001b[39m\u001b[38;5;124mIPython won\u001b[39m\u001b[38;5;124m'\u001b[39m\u001b[38;5;124mt let you open fd=\u001b[39m\u001b[38;5;132;01m{\u001b[39;00mfile\u001b[38;5;132;01m}\u001b[39;00m\u001b[38;5;124m by default \u001b[39m\u001b[38;5;124m\"\u001b[39m\n\u001b[1;32m    320\u001b[0m         \u001b[38;5;124m\"\u001b[39m\u001b[38;5;124mas it is likely to crash IPython. If you know what you are doing, \u001b[39m\u001b[38;5;124m\"\u001b[39m\n\u001b[1;32m    321\u001b[0m         \u001b[38;5;124m\"\u001b[39m\u001b[38;5;124myou can use builtins\u001b[39m\u001b[38;5;124m'\u001b[39m\u001b[38;5;124m open.\u001b[39m\u001b[38;5;124m\"\u001b[39m\n\u001b[1;32m    322\u001b[0m     )\n\u001b[0;32m--> 324\u001b[0m \u001b[38;5;28;01mreturn\u001b[39;00m \u001b[43mio_open\u001b[49m\u001b[43m(\u001b[49m\u001b[43mfile\u001b[49m\u001b[43m,\u001b[49m\u001b[43m \u001b[49m\u001b[38;5;241;43m*\u001b[39;49m\u001b[43margs\u001b[49m\u001b[43m,\u001b[49m\u001b[43m \u001b[49m\u001b[38;5;241;43m*\u001b[39;49m\u001b[38;5;241;43m*\u001b[39;49m\u001b[43mkwargs\u001b[49m\u001b[43m)\u001b[49m\n",
      "\u001b[0;31mFileNotFoundError\u001b[0m: [Errno 2] No such file or directory: 'mobydick.LZ4'"
     ]
    }
   ],
   "source": [
    "import numpy as np\n",
    "import cupy as cp\n",
    "from nvidia import nvcomp\n",
    "\n",
    "print(\"nvcomp version:\", nvcomp.__version__)\n",
    "print(\"nvcomp cuda version:\", nvcomp.__cuda_version__)\n",
    "\n",
    "def verify(original_file, encoded_file, algorith_type):\n",
    "    with open(original_file, \"rb\") as f:\n",
    "        original = f.read()\n",
    "    with open(encoded_file, \"rb\") as f:\n",
    "        text = f.read()\n",
    "\n",
    "    nvarr_txt_h = nvcomp.as_array(text)\n",
    "    nvarr_txt_d = nvarr_txt_h.cuda()\n",
    "    \n",
    "    lz4_codec = nvcomp.Codec(algorithm=algorith_type, checksum_policy=nvcomp.ChecksumPolicy.COMPUTE_AND_VERIFY)\n",
    "    nv_dec_array = lz4_codec.decode(text)\n",
    "\n",
    "    is_equal = bytes(nv_dec_array.cpu()) == bytes(original)\n",
    "    print(\"Is decoded equal to original?\", is_equal)\n",
    "    return is_equal\n",
    "\n",
    "def decode(encoded_file, algorithm_type):\n",
    "    with open(encoded_file, \"rb\") as f:\n",
    "        text = f.read()\n",
    "\n",
    "    nvarr_txt_h = nvcomp.as_array(text)\n",
    "    nvarr_txt_d = nvarr_txt_h.cuda()\n",
    "\n",
    "    lz4_codec = nvcomp.Codec(algorithm=algorithm_type, checksum_policy=nvcomp.ChecksumPolicy.COMPUTE_AND_VERIFY)\n",
    "    nv_dec_array = lz4_codec.decode(text)\n",
    "\n",
    "    print(bytes(nv_dec_array.cpu())[:400].decode())\n",
    "\n",
    "verify(\"mobydick.txt\", \"mobydick.LZ4\", \"LZ4\")\n",
    "decode(\"mobydick.LZ4\", \"LZ4\")\n"
   ]
  },
  {
   "cell_type": "code",
   "execution_count": null,
   "metadata": {},
   "outputs": [
    {
     "name": "stdout",
     "output_type": "stream",
     "text": [
      "Total GPU memory: 4096.0 MB\n"
     ]
    }
   ],
   "source": [
    "import GPUtil\n",
    "import numpy as np\n",
    "import cupy as cp\n",
    "from nvidia import nvcomp\n",
    "\n",
    "print(\"nvcomp version:\", nvcomp.__version__)\n",
    "print(\"nvcomp cuda version:\", nvcomp.__cuda_version__)\n",
    "\n",
    "def get_gpu_memory_info():\n",
    "    GPUs = GPUtil.getGPUs()\n",
    "    gpu = GPUs[0]  # Assuming you have one GPU\n",
    "    return gpu.memoryTotal, gpu.memoryUsed, gpu.memoryFree\n",
    "\n",
    "# Example usage:\n",
    "total_memory = get_gpu_memory_info()[0]\n",
    "print(f\"Total GPU memory: {total_memory} MB\")\n",
    "\n",
    "\n"
   ]
  },
  {
   "cell_type": "code",
   "execution_count": 19,
   "metadata": {},
   "outputs": [
    {
     "name": "stdout",
     "output_type": "stream",
     "text": [
      "File size: 0.31 MB\n"
     ]
    }
   ],
   "source": [
    "import os\n",
    "\n",
    "def get_file_size_mb(file_path):\n",
    "\n",
    "    if not os.path.exists(file_path):\n",
    "        raise FileNotFoundError(f\"File not found: {file_path}\")\n",
    "\n",
    "    size_bytes = os.path.getsize(file_path)\n",
    "    size_mb = size_bytes / (1024 * 1024)\n",
    "    return size_mb\n",
    "\n",
    "# Example usage:\n",
    "file_path = \"mobydick.txt\"  # Replace with the actual file path\n",
    "file_size_mb = get_file_size_mb(file_path)\n",
    "print(f\"File size: {file_size_mb:.2f} MB\")"
   ]
  },
  {
   "cell_type": "code",
   "execution_count": 4,
   "metadata": {},
   "outputs": [
    {
     "name": "stdout",
     "output_type": "stream",
     "text": [
      "File '/home/warmachine/codes/Encrypt5/Encrypt5_SecurityProtocols/GPU_compression/large_file.txt' of size 1000 MB generated successfully!\n"
     ]
    }
   ],
   "source": [
    "import os\n",
    "\n",
    "def generate_large_text_file(filename, size_in_mb):\n",
    "    # Define how many bytes 1 MB has\n",
    "    bytes_in_mb = 1024 * 1024\n",
    "    \n",
    "    # Calculate how many bytes the file should have\n",
    "    target_size_in_bytes = size_in_mb * bytes_in_mb\n",
    "    \n",
    "    # Sample text to write (you can modify this as needed)\n",
    "    sample_text = \"This is a sample UTF-8 encoded text. \" \\\n",
    "                  \"You can add more variety to the text as needed. \" \\\n",
    "                  \"Here's some unicode: 😊, 🐍, 🚀\\n\"\n",
    "\n",
    "    # UTF-8 encoding can vary in byte size per character, so we repeatedly append\n",
    "    encoded_sample = sample_text.encode('utf-8')\n",
    "\n",
    "    # Create the file and write until the size is reached\n",
    "    with open(filename, 'wb') as file:\n",
    "        current_size = 0\n",
    "        \n",
    "        while current_size < target_size_in_bytes:\n",
    "            file.write(encoded_sample)\n",
    "            current_size += len(encoded_sample)\n",
    "    \n",
    "    print(f\"File '{filename}' of size {size_in_mb} MB generated successfully!\")\n",
    "\n",
    "# Example usage\n",
    "filename = \"/home/warmachine/codes/Encrypt5/Encrypt5_SecurityProtocols/GPU_compression/large_file.txt\"\n",
    "size_in_mb = 1000 # Set the desired file size in MB\n",
    "\n",
    "generate_large_text_file(filename, size_in_mb)"
   ]
  },
  {
   "cell_type": "code",
   "execution_count": null,
   "metadata": {},
   "outputs": [],
   "source": [
    "def txt_to_bin(txt_file, bin_file):\n",
    "    try:\n",
    "        # Open the text file in read mode and binary file in write mode\n",
    "        with open(txt_file, 'r') as txt, open(bin_file, 'wb') as bin:\n",
    "            # Read the content of the text file\n",
    "            content = txt.read()\n",
    "            \n",
    "            # Encode the content to binary (UTF-8 encoding)\n",
    "            binary_data = content.encode('utf-8')\n",
    "            \n",
    "            # Write the binary data to the .bin file\n",
    "            bin.write(binary_data)\n",
    "        \n",
    "        print(f\"Successfully converted {txt_file} to {bin_file}\")\n",
    "    \n",
    "    except Exception as e:\n",
    "        print(f\"Error: {e}\")\n",
    "\n",
    "# Example usage\n",
    "txt_file = 'large_file.txt'  # Path to your .txt file\n",
    "bin_file = 'output.bin'   # Desired output .bin file\n",
    "\n",
    "txt_to_bin(txt_file, bin_file)\n"
   ]
  },
  {
   "cell_type": "code",
   "execution_count": null,
   "metadata": {},
   "outputs": [],
   "source": [
    "import os\n",
    "\n",
    "def split_file(file_path, num_parts):\n",
    "    # Get the file size\n",
    "    file_size = os.path.getsize(file_path)\n",
    "    \n",
    "    # Calculate the size of each part\n",
    "    part_size = file_size // num_parts\n",
    "    leftover = file_size % num_parts\n",
    "\n",
    "    # Open the file in binary read mode\n",
    "    with open(file_path, 'rb') as f:\n",
    "        for i in range(num_parts):\n",
    "            # Determine the part file name\n",
    "            part_file_name = f'{file_path}.part{i+1}'\n",
    "            \n",
    "            # Determine the size for this part (add leftover to the last part)\n",
    "            current_part_size = part_size + (leftover if i == num_parts - 1 else 0)\n",
    "            \n",
    "            # Read part of the file\n",
    "            part_data = f.read(current_part_size)\n",
    "            \n",
    "            # Write part to a new file\n",
    "            with open(part_file_name, 'wb') as part_file:\n",
    "                part_file.write(part_data)\n",
    "            \n",
    "            print(f\"Part {i+1} created: {part_file_name}, Size: {current_part_size} bytes\")\n",
    "\n",
    "def merge_files(part_files, output_file_path):\n",
    "    # Open the output file in binary write mode\n",
    "    with open(output_file_path, 'wb') as output_file:\n",
    "        for part_file in part_files:\n",
    "            # Read each part and append it to the output file\n",
    "            with open(part_file, 'rb') as pf:\n",
    "                output_file.write(pf.read())\n",
    "            \n",
    "            print(f\"Merged: {part_file}\")\n",
    "    \n",
    "    print(f\"All parts merged into {output_file_path}\")\n",
    "\n",
    "\n",
    "# Example Usage\n",
    "# To split a 4GB file into 4 parts:\n",
    "#split_file('large_file.txt', 2)\n",
    "\n",
    "# To merge the files back:\n",
    "merge_files(['large_file.txt.part1', 'large_file.txt.part2'], 'mergedfile.txt')\n"
   ]
  }
 ],
 "metadata": {
  "kernelspec": {
   "display_name": "moani",
   "language": "python",
   "name": "python3"
  },
  "language_info": {
   "codemirror_mode": {
    "name": "ipython",
    "version": 3
   },
   "file_extension": ".py",
   "mimetype": "text/x-python",
   "name": "python",
   "nbconvert_exporter": "python",
   "pygments_lexer": "ipython3",
   "version": "3.10.15"
  }
 },
 "nbformat": 4,
 "nbformat_minor": 2
}
